{
 "cells": [
  {
   "cell_type": "markdown",
   "id": "ef4171c1-4bb2-4301-9fff-60b2313fea02",
   "metadata": {},
   "source": [
    "# Boto S3 Lab"
   ]
  },
  {
   "cell_type": "markdown",
   "id": "bee423d8-0707-4aa9-bb18-29a6f90ffabb",
   "metadata": {},
   "source": [
    "### Introduction"
   ]
  },
  {
   "cell_type": "markdown",
   "id": "b219dcf5-e7cf-47f3-acc0-f16e0f0662bc",
   "metadata": {},
   "source": [
    "In this lesson, we'll practice creating buckets and objects, and then reading data from those buckets and objects.  Let's get started."
   ]
  },
  {
   "cell_type": "markdown",
   "id": "69e1017b-bd97-463b-aef2-4b81bdfb2576",
   "metadata": {},
   "source": [
    "## Pulling data an api "
   ]
  },
  {
   "cell_type": "markdown",
   "id": "9ee04a97-4565-4f67-a119-1dd32516763a",
   "metadata": {},
   "source": [
    "Before working with s3, let's get some data to work with.  Start with the `drinks_api_client.py` file (there is a corresponding test file).  \n",
    "\n",
    "* As you can see, we already provided some code for calling the texas drinks api.  Turn this code into a function called `find_receipts` that takes a name as an argument, and then returns the corresponding receipts.  \n",
    "\n",
    "* Next, write a function called `write_to_json`, that takes both the `data` and the name of the `restaurant` we are saving.  [Here](https://www.pythontutorial.net/python-basics/python-write-text-file/) is some information on writing to a file.\n",
    "    > The argument should take in a restaurant name like  `'HONDURAS MAYA CAFE & BAR LLC'` but the file name should be that restaurant name lowercased, with the spaces replaced with underscores.  **Look at the test for details.**\n",
    "    \n",
    "* Then write a function called `read_from_file` that takes a restaurant name like `'HONDURAS MAYA CAFE & BAR LLC'`, and will find the corresponding file and read from it."
   ]
  },
  {
   "cell_type": "markdown",
   "id": "26f52874-ccc5-4109-86c3-3374cc5aed19",
   "metadata": {},
   "source": [
    "### Working with S3"
   ]
  },
  {
   "cell_type": "markdown",
   "id": "26f5b920-c8a8-4992-996f-d9216eb8422e",
   "metadata": {},
   "source": [
    "Ok, so now let's move to the `s3_client.py` file.\n",
    "\n",
    "**Note** For this section, we have also provided corresponding tests.  But **you** will need to modify those tests to provide your bucket name (as that is the only way for us to check that your buckets have the correct files and data).  If you **open the test file**, you will see **two spots** to place in your bucket name. \n",
    "\n",
    "* Ok, begin by using the boto library to create a bucket called `txdrinks`, or something like it -- yours will need to be unique.\n",
    "\n",
    "* `read_and_upload(file_name, bucket_name)`\n",
    "    * Then write a function called `read_and_upload` that given a file name, and a bucket name, will read in that json file and load it into our `tx_drinks` bucket.  The file uploaded to the s3 bucket should be the same name, and it should be stored in the data folder in the bucket. \n",
    "    > Remember that we use the following format to upload a file: \n",
    "    > `s3.upload_file('./yelp-lunch-nyc.csv', 'jigsaw-sample-json', 'lunch.csv')`\n",
    "    \n",
    "* `read_data_from(bucket, object)`\n",
    "    * The function should take in a bucket name, and read the data from the bucket, and return the corresponding list or dictionary (not a string). \n",
    "\n",
    "* `store_restaurant_data(restaurants, bucket)`\n",
    "    * The function should take in a list of restaurant names, and for each restaurant, retrieve data from the api, and store the json data in a separate file (but the same bucket).  The name should be the cleaned restaurant name.   "
   ]
  },
  {
   "cell_type": "markdown",
   "id": "dbf02a21-01b9-4f94-9a29-cfd80680bf50",
   "metadata": {},
   "source": [
    "### Summary\n",
    "\n",
    "Ok, that's it.  Look at the index.py file to get a sense of how we can use these new methods.  For more s3 tips, take a look at the [following resource](https://betterprogramming.pub/10-simple-hacks-that-will-make-you-super-productive-when-using-aws-98b9e919acb)."
   ]
  }
 ],
 "metadata": {
  "kernelspec": {
   "display_name": "Python 3 (ipykernel)",
   "language": "python",
   "name": "python3"
  },
  "language_info": {
   "codemirror_mode": {
    "name": "ipython",
    "version": 3
   },
   "file_extension": ".py",
   "mimetype": "text/x-python",
   "name": "python",
   "nbconvert_exporter": "python",
   "pygments_lexer": "ipython3",
   "version": "3.9.12"
  }
 },
 "nbformat": 4,
 "nbformat_minor": 5
}
